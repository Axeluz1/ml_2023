{
  "nbformat": 4,
  "nbformat_minor": 0,
  "metadata": {
    "colab": {
      "provenance": [],
      "authorship_tag": "ABX9TyPPOKCrMMfpB+XWF970FiQl",
      "include_colab_link": true
    },
    "kernelspec": {
      "name": "python3",
      "display_name": "Python 3"
    },
    "language_info": {
      "name": "python"
    }
  },
  "cells": [
    {
      "cell_type": "markdown",
      "metadata": {
        "id": "view-in-github",
        "colab_type": "text"
      },
      "source": [
        "<a href=\"https://colab.research.google.com/github/Axeluz1/ml_2023/blob/main/Preprocessing.ipynb\" target=\"_parent\"><img src=\"https://colab.research.google.com/assets/colab-badge.svg\" alt=\"Open In Colab\"/></a>"
      ]
    },
    {
      "cell_type": "code",
      "execution_count": 1,
      "metadata": {
        "id": "h73CNdlFDAxH"
      },
      "outputs": [],
      "source": [
        "# Data Preprocessing Tools\n",
        "# Importing the libraries\n",
        "import numpy as np\n",
        "import matplotlib.pyplot as plt\n",
        "import pandas as pd\n",
        "\n"
      ]
    },
    {
      "cell_type": "code",
      "source": [
        "# Importing the dataset\n",
        "dataset = pd.read_csv ('Data.csv')\n",
        "X = dataset.iloc[:, : -1].values \n",
        "y = dataset.iloc[:, -1].values\n",
        "print (X)\n",
        "print(y)\n",
        "\n"
      ],
      "metadata": {
        "id": "P6HNrQB6G0uA"
      },
      "execution_count": null,
      "outputs": []
    },
    {
      "cell_type": "code",
      "source": [
        "# Taking care of missing data\n",
        "from sklearn.impute import SimpleImputer\n",
        "imputer = SimpleImputer(missing_values=np.nan,strategy='mean')\n",
        "imputer.fit(X[:, 1:3])\n",
        "X[:, 1:3] = imputer.transform(X[:, 1:3])\n",
        "print (X)\n",
        "\n"
      ],
      "metadata": {
        "id": "zomeHd0_G3uM"
      },
      "execution_count": null,
      "outputs": []
    },
    {
      "cell_type": "code",
      "source": [
        "# Encoding categorical data\n",
        "# Encoding the Independent Variable\n",
        "from sklearn.compose import ColumnTransformer\n",
        "from sklearn.preprocessing import OneHotEncoder\n",
        "ct= ColumnTransformer(transformers= [('encoder', OneHotEncoder(),[0])],\n",
        "remainder ='passthrough')\n",
        "X = np.array (ct.fit_transform(X)) \n",
        "print(X)\n"
      ],
      "metadata": {
        "id": "dyYOyTMYG8nv"
      },
      "execution_count": null,
      "outputs": []
    },
    {
      "cell_type": "code",
      "source": [
        "# Encoding the Dependent Variable\n",
        "from sklearn.preprocessing import LabelEncoder \n",
        "le= LabelEncoder()\n",
        "y = le.fittransform(y)\n",
        "print(y)"
      ],
      "metadata": {
        "id": "_0un8HJCHAEu"
      },
      "execution_count": null,
      "outputs": []
    },
    {
      "cell_type": "code",
      "source": [
        "# Splitting the dataset into the Training set and Test set \n",
        "from sklearn.model_selection import train_test_split\n",
        "X_train, X_test, y_train, y_test = train_test_split(X, y, test_size = 0.2,\n",
        "random state = 1)\n",
        "print (X_train)\n",
        "print(X_test)\n",
        "print (y_train)\n",
        "print (y_test)"
      ],
      "metadata": {
        "id": "5-VJFN3UHCi_"
      },
      "execution_count": null,
      "outputs": []
    },
    {
      "cell_type": "code",
      "source": [
        "# Feature Scaling\n",
        "from sklearn.preprocessing import StandardScaler \n",
        "sc = StandardScaler()\n",
        "X_train[:, 3:] = sc.fit_transform(X_train[:, 3:]) \n",
        "X_test[:, 3:] = sc.transform(X_test[:, 3:])\n",
        "print (X_train)\n",
        "print (X_test)"
      ],
      "metadata": {
        "id": "CzopfyktHE95"
      },
      "execution_count": null,
      "outputs": []
    }
  ]
}